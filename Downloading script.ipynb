{
 "cells": [
  {
   "cell_type": "code",
   "execution_count": 37,
   "metadata": {},
   "outputs": [],
   "source": [
    "import pandas as pd\n",
    "import numpy as np\n",
    "import csv\n",
    "import urllib.request"
   ]
  },
  {
   "cell_type": "code",
   "execution_count": 50,
   "metadata": {},
   "outputs": [],
   "source": [
    "df = pd.read_csv(\"ds.csv\",header=None)"
   ]
  },
  {
   "cell_type": "code",
   "execution_count": 51,
   "metadata": {},
   "outputs": [
    {
     "data": {
      "text/html": [
       "<div>\n",
       "<style scoped>\n",
       "    .dataframe tbody tr th:only-of-type {\n",
       "        vertical-align: middle;\n",
       "    }\n",
       "\n",
       "    .dataframe tbody tr th {\n",
       "        vertical-align: top;\n",
       "    }\n",
       "\n",
       "    .dataframe thead th {\n",
       "        text-align: right;\n",
       "    }\n",
       "</style>\n",
       "<table border=\"1\" class=\"dataframe\">\n",
       "  <thead>\n",
       "    <tr style=\"text-align: right;\">\n",
       "      <th></th>\n",
       "      <th>0</th>\n",
       "      <th>1</th>\n",
       "      <th>2</th>\n",
       "      <th>3</th>\n",
       "      <th>4</th>\n",
       "    </tr>\n",
       "  </thead>\n",
       "  <tbody>\n",
       "    <tr>\n",
       "      <td>0</td>\n",
       "      <td>http://farm2.staticflickr.com/1194/800391570_b...</td>\n",
       "      <td>0.277344</td>\n",
       "      <td>0.375000</td>\n",
       "      <td>0.360677</td>\n",
       "      <td>0.513021</td>\n",
       "    </tr>\n",
       "    <tr>\n",
       "      <td>1</td>\n",
       "      <td>http://farm2.staticflickr.com/1194/800391570_b...</td>\n",
       "      <td>0.875000</td>\n",
       "      <td>0.972656</td>\n",
       "      <td>0.414062</td>\n",
       "      <td>0.565104</td>\n",
       "    </tr>\n",
       "    <tr>\n",
       "      <td>2</td>\n",
       "      <td>http://farm6.staticflickr.com/5033/14414157667...</td>\n",
       "      <td>0.313802</td>\n",
       "      <td>0.531250</td>\n",
       "      <td>0.176758</td>\n",
       "      <td>0.366211</td>\n",
       "    </tr>\n",
       "    <tr>\n",
       "      <td>3</td>\n",
       "      <td>http://farm3.staticflickr.com/2938/14716663066...</td>\n",
       "      <td>0.528320</td>\n",
       "      <td>0.641602</td>\n",
       "      <td>0.360704</td>\n",
       "      <td>0.558651</td>\n",
       "    </tr>\n",
       "    <tr>\n",
       "      <td>4</td>\n",
       "      <td>http://farm3.staticflickr.com/2938/14716663066...</td>\n",
       "      <td>0.727539</td>\n",
       "      <td>0.848633</td>\n",
       "      <td>0.372434</td>\n",
       "      <td>0.585044</td>\n",
       "    </tr>\n",
       "  </tbody>\n",
       "</table>\n",
       "</div>"
      ],
      "text/plain": [
       "                                                   0         1         2  \\\n",
       "0  http://farm2.staticflickr.com/1194/800391570_b...  0.277344  0.375000   \n",
       "1  http://farm2.staticflickr.com/1194/800391570_b...  0.875000  0.972656   \n",
       "2  http://farm6.staticflickr.com/5033/14414157667...  0.313802  0.531250   \n",
       "3  http://farm3.staticflickr.com/2938/14716663066...  0.528320  0.641602   \n",
       "4  http://farm3.staticflickr.com/2938/14716663066...  0.727539  0.848633   \n",
       "\n",
       "          3         4  \n",
       "0  0.360677  0.513021  \n",
       "1  0.414062  0.565104  \n",
       "2  0.176758  0.366211  \n",
       "3  0.360704  0.558651  \n",
       "4  0.372434  0.585044  "
      ]
     },
     "execution_count": 51,
     "metadata": {},
     "output_type": "execute_result"
    }
   ],
   "source": [
    "df.head()"
   ]
  },
  {
   "cell_type": "code",
   "execution_count": 52,
   "metadata": {},
   "outputs": [],
   "source": [
    "lst = list()\n",
    "for lab,link in df.iterrows():\n",
    "    lst.append(link[0])"
   ]
  },
  {
   "cell_type": "code",
   "execution_count": 53,
   "metadata": {},
   "outputs": [
    {
     "data": {
      "text/plain": [
       "['http://farm2.staticflickr.com/1194/800391570_bece0a761c_b.jpg',\n",
       " 'http://farm2.staticflickr.com/1194/800391570_bece0a761c_b.jpg',\n",
       " 'http://farm6.staticflickr.com/5033/14414157667_98383c7f1c_b.jpg',\n",
       " 'http://farm3.staticflickr.com/2938/14716663066_5a80897c22_b.jpg',\n",
       " 'http://farm3.staticflickr.com/2938/14716663066_5a80897c22_b.jpg',\n",
       " 'http://farm4.staticflickr.com/3732/11190266664_e1cce12d3f_b.jpg',\n",
       " 'http://farm4.staticflickr.com/3732/11190266664_e1cce12d3f_b.jpg',\n",
       " 'http://farm4.staticflickr.com/3732/11190266664_e1cce12d3f_b.jpg',\n",
       " 'http://farm2.staticflickr.com/1421/4721793735_d23bc3e9a3_b.jpg',\n",
       " 'http://farm8.staticflickr.com/7458/11756029544_0c4ab1713c_b.jpg',\n",
       " 'http://farm6.staticflickr.com/5451/9670218976_ee459547ff_b.jpg']"
      ]
     },
     "execution_count": 53,
     "metadata": {},
     "output_type": "execute_result"
    }
   ],
   "source": [
    "lst"
   ]
  },
  {
   "cell_type": "code",
   "execution_count": 54,
   "metadata": {},
   "outputs": [],
   "source": [
    "def dl(url,file_path,file_name):\n",
    "    full_path = file_path + file_name + '.jpg'\n",
    "    urllib.request.urlretrieve(url,full_path)"
   ]
  },
  {
   "cell_type": "code",
   "execution_count": 56,
   "metadata": {},
   "outputs": [],
   "source": [
    "for i in range(0,len(lst)):\n",
    "    url = lst[i]\n",
    "    file_name = str(i)\n",
    "    dl(url,'img/',file_name)"
   ]
  },
  {
   "cell_type": "code",
   "execution_count": null,
   "metadata": {},
   "outputs": [],
   "source": []
  }
 ],
 "metadata": {
  "kernelspec": {
   "display_name": "Python 3",
   "language": "python",
   "name": "python3"
  },
  "language_info": {
   "codemirror_mode": {
    "name": "ipython",
    "version": 3
   },
   "file_extension": ".py",
   "mimetype": "text/x-python",
   "name": "python",
   "nbconvert_exporter": "python",
   "pygments_lexer": "ipython3",
   "version": "3.7.4"
  }
 },
 "nbformat": 4,
 "nbformat_minor": 2
}
